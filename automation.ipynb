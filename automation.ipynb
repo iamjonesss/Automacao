{
 "cells": [
  {
   "cell_type": "code",
   "execution_count": null,
   "id": "7f7306ac",
   "metadata": {},
   "outputs": [],
   "source": []
  },
  {
   "cell_type": "code",
   "execution_count": 55,
   "id": "724b922a",
   "metadata": {},
   "outputs": [],
   "source": [
    "# Importações\n",
    "from selenium import webdriver\n",
    "from selenium.webdriver.common.by import By\n",
    "import pandas as pd\n",
    "import time\n",
    "\n",
    "\n",
    "# Conectando o Selenium ao navegador e conectando o site para automação\n",
    "driver = webdriver.Chrome()\n",
    "driver.get(\"https://www.rpachallenge.com/\")\n",
    "\n",
    "# Importando a planilha\n",
    "data = pd.read_excel(\"challenge.xlsx\")\n",
    "\n",
    "# Pegando o elemento pai\n",
    "form = driver.find_elements(\n",
    "    By.CSS_SELECTOR, \n",
    "    \"body > app-root > div.body.row1.scroll-y > app-rpa1 > div > div.inputFields.col.s6.m6.l6 > form\"\n",
    ")\n",
    "\n",
    "\n",
    "for field in form:\n",
    "    inputAdress = driver.find_element(By.CSS_SELECTOR, '[ng-reflect-name=\"labelAddress\"]').send_keys('Adress')\n",
    "    inputFName = driver.find_element(By.CSS_SELECTOR, '[ng-reflect-name=\"labelFirstName\"]').send_keys('First Name')\n",
    "    inputLName = driver.find_element(By.CSS_SELECTOR, '[ng-reflect-name=\"labelLastName\"]').send_keys('Last Name')\n",
    "    inputNumber = driver.find_element(By.CSS_SELECTOR, '[ng-reflect-name=\"labelPhone\"]').send_keys('Phone Number')\n",
    "    inputEmail = driver.find_element(By.CSS_SELECTOR, '[ng-reflect-name=\"labelEmail\"]').send_keys('Email')\n",
    "    inputCompany = driver.find_element(By.CSS_SELECTOR, '[ng-reflect-name=\"labelCompanyName\"]').send_keys('Company Name')\n",
    "    inputRoleCompany = driver.find_element(By.CSS_SELECTOR, '[ng-reflect-name=\"labelRole\"]').send_keys('Role Company')\n",
    "\n",
    "\n",
    "time.sleep(3)\n",
    "driver.quit()\n"
   ]
  },
  {
   "cell_type": "code",
   "execution_count": null,
   "id": "b9502e22",
   "metadata": {},
   "outputs": [],
   "source": []
  },
  {
   "cell_type": "code",
   "execution_count": null,
   "id": "70a907e2",
   "metadata": {},
   "outputs": [],
   "source": []
  }
 ],
 "metadata": {
  "kernelspec": {
   "display_name": "Python 3 (ipykernel)",
   "language": "python",
   "name": "python3"
  },
  "language_info": {
   "codemirror_mode": {
    "name": "ipython",
    "version": 3
   },
   "file_extension": ".py",
   "mimetype": "text/x-python",
   "name": "python",
   "nbconvert_exporter": "python",
   "pygments_lexer": "ipython3",
   "version": "3.10.9"
  }
 },
 "nbformat": 4,
 "nbformat_minor": 5
}
